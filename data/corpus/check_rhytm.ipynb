{
 "cells": [
  {
   "cell_type": "code",
   "execution_count": 2,
   "metadata": {},
   "outputs": [
    {
     "name": "stdout",
     "output_type": "stream",
     "text": [
      "43092\n"
     ]
    }
   ],
   "source": [
    "# Initialize an empty list to store the lines\n",
    "lines_list = []\n",
    "\n",
    "# Open the text file in read mode\n",
    "with open(\"./rhythm_token_cnt.txt\", \"r\") as file:\n",
    "    # Read each line from the file and append it to the list\n",
    "    for line in file:\n",
    "        lines_list.append(line.strip())\n",
    "\n",
    "# Now, lines_list contains all the lines from the text file\n",
    "print(len(lines_list))\n"
   ]
  },
  {
   "cell_type": "code",
   "execution_count": 5,
   "metadata": {},
   "outputs": [
    {
     "name": "stdout",
     "output_type": "stream",
     "text": [
      "0\n"
     ]
    }
   ],
   "source": [
    "\n",
    "err = 0\n",
    "for lidx, line in enumerate(lines_list):\n",
    "    if lidx == 0:\n",
    "        continue\n",
    "    \n",
    "    # if lidx >= 100:\n",
    "    #     break\n",
    "    token = line.split(' ')[0]\n",
    "    \n",
    "    if len(token)%2 != 0:\n",
    "        print(token)\n",
    "        err += 1\n",
    "        continue\n",
    "    \n",
    "    for cidx, char in enumerate(token):\n",
    "        if cidx == 0 and char != 'p' and char != 'P':\n",
    "            err += 1\n",
    "            print(token)\n",
    "            continue\n",
    "            \n",
    "        if cidx != 0 and cidx % 2 == 0 and char != 'r' and char != 'R':\n",
    "            err += 1\n",
    "            print(token)\n",
    "            continue\n",
    "        \n",
    "        # if cidx % 4 == 0 and char != 'p':\n",
    "        #     # print('P Error')\n",
    "        #     # print(lidx)\n",
    "        #     # print(line)\n",
    "        #     err += 1\n",
    "        #     break\n",
    "        \n",
    "        # if cidx % 4 == 2 and char != 'r':\n",
    "        #     # print('R Error')\n",
    "        #     # print(lidx)\n",
    "        #     # print(line)\n",
    "        #     err += 1\n",
    "        #     break\n",
    "print(err)\n",
    "        "
   ]
  },
  {
   "cell_type": "code",
   "execution_count": null,
   "metadata": {},
   "outputs": [],
   "source": []
  }
 ],
 "metadata": {
  "kernelspec": {
   "display_name": "sym",
   "language": "python",
   "name": "python3"
  },
  "language_info": {
   "codemirror_mode": {
    "name": "ipython",
    "version": 3
   },
   "file_extension": ".py",
   "mimetype": "text/x-python",
   "name": "python",
   "nbconvert_exporter": "python",
   "pygments_lexer": "ipython3",
   "version": "3.12.3"
  }
 },
 "nbformat": 4,
 "nbformat_minor": 2
}
