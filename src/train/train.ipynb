{
 "cells": [
  {
   "cell_type": "code",
   "execution_count": 5,
   "metadata": {},
   "outputs": [
    {
     "name": "stdout",
     "output_type": "stream",
     "text": [
      "torch.Size([2, 3, 4])\n",
      "torch.Size([2, 3])\n",
      "tensor([[2, 1, 2],\n",
      "        [3, 0, 0]])\n"
     ]
    }
   ],
   "source": [
    "import torch\n",
    "\n",
    "# Example tensor of shape [40, 2047, 140]\n",
    "tensor = torch.tensor([[[0,1,2,1],[2,3,1,2],[1,1,3,1]],   [[2,1,0,9],[4,3,1,3],[8,1,3,1]]])\n",
    "print(tensor.shape)\n",
    "# Compute the argmax along the third dimension\n",
    "argmax_values = torch.argmax(tensor, dim=2)\n",
    "print(argmax_values.shape)\n",
    "print(argmax_values)"
   ]
  },
  {
   "cell_type": "code",
   "execution_count": 13,
   "metadata": {},
   "outputs": [
    {
     "name": "stdout",
     "output_type": "stream",
     "text": [
      "5\n",
      "tensor([2, 1, 2])\n"
     ]
    }
   ],
   "source": [
    "answer = torch.tensor([\n",
    "    [2,1,2],\n",
    "    [3,1,0]\n",
    "])\n",
    "\n",
    "correct = (argmax_values == answer).sum().item()\n",
    "print(correct)\n",
    "print(answer[0])\n",
    "# total_predictions = predicted_indices.shape[0]"
   ]
  },
  {
   "cell_type": "code",
   "execution_count": 12,
   "metadata": {},
   "outputs": [
    {
     "name": "stdout",
     "output_type": "stream",
     "text": [
      "First zero index: 3\n"
     ]
    }
   ],
   "source": [
    "import torch\n",
    "\n",
    "# Example tensor\n",
    "tensor = torch.tensor([3, 1, 4, 0, 2, 0])\n",
    "\n",
    "# Find indices where the tensor is zero\n",
    "zero_indices = torch.where(tensor == 0)[0]\n",
    "\n",
    "# Get the first index of zero, if there is any zero\n",
    "first_zero_index = torch.where(tensor == 0)[0][0].item()\n",
    "\n",
    "print(f'First zero index: {first_zero_index}')\n"
   ]
  }
 ],
 "metadata": {
  "kernelspec": {
   "display_name": "sym",
   "language": "python",
   "name": "python3"
  },
  "language_info": {
   "codemirror_mode": {
    "name": "ipython",
    "version": 3
   },
   "file_extension": ".py",
   "mimetype": "text/x-python",
   "name": "python",
   "nbconvert_exporter": "python",
   "pygments_lexer": "ipython3",
   "version": "3.12.3"
  }
 },
 "nbformat": 4,
 "nbformat_minor": 2
}
